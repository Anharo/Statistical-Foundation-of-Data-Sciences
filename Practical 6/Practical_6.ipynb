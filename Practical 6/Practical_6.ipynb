{
  "nbformat": 4,
  "nbformat_minor": 0,
  "metadata": {
    "colab": {
      "provenance": []
    },
    "kernelspec": {
      "name": "python3",
      "display_name": "Python 3"
    },
    "language_info": {
      "name": "python"
    }
  },
  "cells": [
    {
      "cell_type": "markdown",
      "source": [
        "# Importing necessary libraries"
      ],
      "metadata": {
        "id": "VLY8MvUlP7NL"
      }
    },
    {
      "cell_type": "code",
      "execution_count": 8,
      "metadata": {
        "id": "-I-yAbKQU0us"
      },
      "outputs": [],
      "source": [
        "import pandas as pd\n",
        "import numpy as np\n",
        "from scipy.stats import ttest_ind\n",
        "from scipy.stats import f_oneway\n",
        "import scipy.stats as stats\n",
        "from scipy.stats import pearsonr\n",
        "import warnings\n",
        "warnings.filterwarnings('ignore')"
      ]
    },
    {
      "cell_type": "markdown",
      "source": [
        "# Q1) T-Test: Using the teachers' rating data set, does gender affect teaching evaluation rates?"
      ],
      "metadata": {
        "id": "JFlmGfgmXsEU"
      }
    },
    {
      "cell_type": "markdown",
      "source": [
        "## Objective:\n",
        "To test whether the mean teaching evaluation score differs between male and female instructors.\n",
        "\n",
        "## Hypotheses:\n",
        "\n",
        "H₀: There is no significant difference in evaluation scores between genders.\n",
        "\n",
        "H₁: There is a significant difference in evaluation scores between genders.\n",
        "\n",
        "## Test Used:\n",
        "Independent Samples t-test"
      ],
      "metadata": {
        "id": "0M4q2x4gOA1A"
      }
    },
    {
      "cell_type": "code",
      "source": [
        "df = pd.read_csv(\"/content/teachers_rating_dataset.csv\")\n",
        "male_eval = df[df['Gender'] == 'Male']['Rating']\n",
        "female_eval = df[df['Gender'] == 'Female']['Rating']\n",
        "\n",
        "t_stat, p_val = ttest_ind(male_eval, female_eval)\n",
        "print(\"T-Statistic:\", t_stat)\n",
        "print(\"P-Value:\", p_val)"
      ],
      "metadata": {
        "colab": {
          "base_uri": "https://localhost:8080/"
        },
        "id": "FdLk4CwgVxjj",
        "outputId": "8730103d-56fb-44c6-e034-067a3bfa28a3"
      },
      "execution_count": 9,
      "outputs": [
        {
          "output_type": "stream",
          "name": "stdout",
          "text": [
            "T-Statistic: 1.4837493604624215\n",
            "P-Value: 0.1405416278044922\n"
          ]
        }
      ]
    },
    {
      "cell_type": "markdown",
      "source": [
        "Interpretation:\n",
        "\n",
        "p-value ≥ 0.05, fail to reject H₀ → Gender does not affect evaluation scores."
      ],
      "metadata": {
        "id": "5LC2ZUgmN4b7"
      }
    },
    {
      "cell_type": "markdown",
      "source": [
        "#Q2. ANOVA: Using the teachers' rating data set, does beauty score for instructors differ by age?"
      ],
      "metadata": {
        "id": "l_2mbz-wX2zz"
      }
    },
    {
      "cell_type": "markdown",
      "source": [
        "## Objective:\n",
        "To check whether beauty scores differ significantly across different age groups.\n",
        "\n",
        "## Hypotheses:\n",
        "\n",
        "H₀: Mean beauty scores are equal across all age groups.\n",
        "\n",
        "H₁: At least one group has a different mean beauty score.\n",
        "\n",
        "## Test Used:\n",
        "One-way ANOVA"
      ],
      "metadata": {
        "id": "wGdmvBNrYZqa"
      }
    },
    {
      "cell_type": "code",
      "source": [
        "df['age_group'] = pd.cut(df['Age'], bins=[20,30,40,50,60,70], labels=['20s','30s','40s','50s','60s'])\n",
        "grouped = [df[df['age_group']==grp]['Beauty'] for grp in df['age_group'].unique() if not df[df['age_group']==grp].empty]\n",
        "f_stat, p_val = f_oneway(*grouped)\n",
        "print(\"F-Statistic:\", f_stat)\n",
        "print(\"P-Value:\", p_val)\n"
      ],
      "metadata": {
        "colab": {
          "base_uri": "https://localhost:8080/"
        },
        "id": "8FkzFyZHXYty",
        "outputId": "2def5852-467a-4875-d7bc-c7504b718ed6"
      },
      "execution_count": 10,
      "outputs": [
        {
          "output_type": "stream",
          "name": "stdout",
          "text": [
            "F-Statistic: 1.0055310276264144\n",
            "P-Value: 0.39304586245221135\n"
          ]
        }
      ]
    },
    {
      "cell_type": "markdown",
      "source": [
        "Interpretation:\n",
        "\n",
        "Fail to reject H₀ → No significant difference."
      ],
      "metadata": {
        "id": "4L6B2ZhwZFha"
      }
    },
    {
      "cell_type": "markdown",
      "source": [
        "# Q3. Chi-square: Using the teachers' rating data set, is there an association between tenure and gender?"
      ],
      "metadata": {
        "id": "iX-nsbdFZSTq"
      }
    },
    {
      "cell_type": "markdown",
      "source": [
        "## Objective:\n",
        "To test whether tenure and gender are independent or associated.\n",
        "\n",
        "## Hypotheses:\n",
        "\n",
        "H₀: Tenure and gender are independent.\n",
        "\n",
        "H₁: There is an association between tenure and gender.\n",
        "\n",
        "## Test Used:\n",
        "Chi-square test of independence"
      ],
      "metadata": {
        "id": "WenRVsY3ZrUj"
      }
    },
    {
      "cell_type": "code",
      "source": [
        "contingency_table = pd.crosstab(df['Tenure'], df['Gender'])\n",
        "chi2, p, dof, expected = stats.chi2_contingency(contingency_table)\n",
        "print(\"Chi-square:\", chi2)\n",
        "print(\"P-Value:\", p)"
      ],
      "metadata": {
        "colab": {
          "base_uri": "https://localhost:8080/"
        },
        "id": "LC8pkvwmZDYS",
        "outputId": "dcc0783a-d045-46a9-d2f0-b12b33179e00"
      },
      "execution_count": 11,
      "outputs": [
        {
          "output_type": "stream",
          "name": "stdout",
          "text": [
            "Chi-square: 0.5661505300293848\n",
            "P-Value: 0.4517926608589078\n"
          ]
        }
      ]
    },
    {
      "cell_type": "markdown",
      "source": [
        "Interpretation:\n",
        "\n",
        "fail to reject H₀ → They are independent."
      ],
      "metadata": {
        "id": "qTlDTUhtaAsc"
      }
    },
    {
      "cell_type": "markdown",
      "source": [
        "# Q4. Correlation: Using the teachers' rating dataset, is teaching evaluation score correlated with beauty score?"
      ],
      "metadata": {
        "id": "MezZaFw1aWBK"
      }
    },
    {
      "cell_type": "markdown",
      "source": [
        "## Objective:\n",
        "To test whether there is a linear relationship between evaluation and beauty.\n",
        "\n",
        "## Hypotheses:\n",
        "\n",
        "H₀: There is no correlation between evaluation and beauty.\n",
        "\n",
        "H₁: There is a correlation between evaluation and beauty.\n",
        "\n",
        "## Test Used:\n",
        "Pearson Correlation Coefficient"
      ],
      "metadata": {
        "id": "LGt6FLB5aaxE"
      }
    },
    {
      "cell_type": "code",
      "source": [
        "corr, p_val = pearsonr(df['Rating'], df['Beauty'])\n",
        "print(\"Correlation Coefficient:\", corr)\n",
        "print(\"P-Value:\", p_val)\n"
      ],
      "metadata": {
        "colab": {
          "base_uri": "https://localhost:8080/"
        },
        "id": "D2WBfjH_aIlC",
        "outputId": "785e1448-f7e4-49bc-f322-f4698156859b"
      },
      "execution_count": 12,
      "outputs": [
        {
          "output_type": "stream",
          "name": "stdout",
          "text": [
            "Correlation Coefficient: -0.032977031987411566\n",
            "P-Value: 0.7206715414451285\n"
          ]
        }
      ]
    },
    {
      "cell_type": "markdown",
      "source": [
        "Interpretation:\n",
        "\n",
        "p-value > 0.05, fail to reject H₀ → There is no  correlation between evaluation and beauty.\n",
        "\n",
        "As corr < 0, it’s negative correlation."
      ],
      "metadata": {
        "id": "JPxUKqFfanRT"
      }
    }
  ]
}