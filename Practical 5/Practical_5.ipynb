{
  "nbformat": 4,
  "nbformat_minor": 0,
  "metadata": {
    "colab": {
      "provenance": []
    },
    "kernelspec": {
      "name": "python3",
      "display_name": "Python 3"
    },
    "language_info": {
      "name": "python"
    }
  },
  "cells": [
    {
      "cell_type": "markdown",
      "source": [
        "Importing libraries and Dataset"
      ],
      "metadata": {
        "id": "9fN3HDV1NPT_"
      }
    },
    {
      "cell_type": "code",
      "execution_count": 5,
      "metadata": {
        "id": "ORmmlKuTImZU"
      },
      "outputs": [],
      "source": [
        "import pandas as pd\n",
        "import numpy as np"
      ]
    },
    {
      "cell_type": "code",
      "source": [
        "ratings = pd.read_csv(\"/content/teachers_rating_dataset.csv\")\n",
        "ratings.head()"
      ],
      "metadata": {
        "colab": {
          "base_uri": "https://localhost:8080/",
          "height": 206
        },
        "id": "S3BAsajUJ4kD",
        "outputId": "c8f3375e-c673-4b91-d3fd-ef9c4a202e1f"
      },
      "execution_count": 6,
      "outputs": [
        {
          "output_type": "execute_result",
          "data": {
            "text/plain": [
              "      Prof  Gender Tenure  Beauty  Rating  Students  Age        Division\n",
              "0  Prof_52  Female     No    5.66    4.11        62   26  Upper Division\n",
              "1  Prof_93    Male    Yes    7.28    3.86        95   37  Lower Division\n",
              "2  Prof_15  Female     No    7.02    4.22        84   35  Upper Division\n",
              "3  Prof_72    Male    Yes    8.15    4.57       300   47  Lower Division\n",
              "4  Prof_61  Female     No    6.68    4.25       131   40  Lower Division"
            ],
            "text/html": [
              "\n",
              "  <div id=\"df-3f25b840-e516-48fb-843c-216ba650e393\" class=\"colab-df-container\">\n",
              "    <div>\n",
              "<style scoped>\n",
              "    .dataframe tbody tr th:only-of-type {\n",
              "        vertical-align: middle;\n",
              "    }\n",
              "\n",
              "    .dataframe tbody tr th {\n",
              "        vertical-align: top;\n",
              "    }\n",
              "\n",
              "    .dataframe thead th {\n",
              "        text-align: right;\n",
              "    }\n",
              "</style>\n",
              "<table border=\"1\" class=\"dataframe\">\n",
              "  <thead>\n",
              "    <tr style=\"text-align: right;\">\n",
              "      <th></th>\n",
              "      <th>Prof</th>\n",
              "      <th>Gender</th>\n",
              "      <th>Tenure</th>\n",
              "      <th>Beauty</th>\n",
              "      <th>Rating</th>\n",
              "      <th>Students</th>\n",
              "      <th>Age</th>\n",
              "      <th>Division</th>\n",
              "    </tr>\n",
              "  </thead>\n",
              "  <tbody>\n",
              "    <tr>\n",
              "      <th>0</th>\n",
              "      <td>Prof_52</td>\n",
              "      <td>Female</td>\n",
              "      <td>No</td>\n",
              "      <td>5.66</td>\n",
              "      <td>4.11</td>\n",
              "      <td>62</td>\n",
              "      <td>26</td>\n",
              "      <td>Upper Division</td>\n",
              "    </tr>\n",
              "    <tr>\n",
              "      <th>1</th>\n",
              "      <td>Prof_93</td>\n",
              "      <td>Male</td>\n",
              "      <td>Yes</td>\n",
              "      <td>7.28</td>\n",
              "      <td>3.86</td>\n",
              "      <td>95</td>\n",
              "      <td>37</td>\n",
              "      <td>Lower Division</td>\n",
              "    </tr>\n",
              "    <tr>\n",
              "      <th>2</th>\n",
              "      <td>Prof_15</td>\n",
              "      <td>Female</td>\n",
              "      <td>No</td>\n",
              "      <td>7.02</td>\n",
              "      <td>4.22</td>\n",
              "      <td>84</td>\n",
              "      <td>35</td>\n",
              "      <td>Upper Division</td>\n",
              "    </tr>\n",
              "    <tr>\n",
              "      <th>3</th>\n",
              "      <td>Prof_72</td>\n",
              "      <td>Male</td>\n",
              "      <td>Yes</td>\n",
              "      <td>8.15</td>\n",
              "      <td>4.57</td>\n",
              "      <td>300</td>\n",
              "      <td>47</td>\n",
              "      <td>Lower Division</td>\n",
              "    </tr>\n",
              "    <tr>\n",
              "      <th>4</th>\n",
              "      <td>Prof_61</td>\n",
              "      <td>Female</td>\n",
              "      <td>No</td>\n",
              "      <td>6.68</td>\n",
              "      <td>4.25</td>\n",
              "      <td>131</td>\n",
              "      <td>40</td>\n",
              "      <td>Lower Division</td>\n",
              "    </tr>\n",
              "  </tbody>\n",
              "</table>\n",
              "</div>\n",
              "    <div class=\"colab-df-buttons\">\n",
              "\n",
              "  <div class=\"colab-df-container\">\n",
              "    <button class=\"colab-df-convert\" onclick=\"convertToInteractive('df-3f25b840-e516-48fb-843c-216ba650e393')\"\n",
              "            title=\"Convert this dataframe to an interactive table.\"\n",
              "            style=\"display:none;\">\n",
              "\n",
              "  <svg xmlns=\"http://www.w3.org/2000/svg\" height=\"24px\" viewBox=\"0 -960 960 960\">\n",
              "    <path d=\"M120-120v-720h720v720H120Zm60-500h600v-160H180v160Zm220 220h160v-160H400v160Zm0 220h160v-160H400v160ZM180-400h160v-160H180v160Zm440 0h160v-160H620v160ZM180-180h160v-160H180v160Zm440 0h160v-160H620v160Z\"/>\n",
              "  </svg>\n",
              "    </button>\n",
              "\n",
              "  <style>\n",
              "    .colab-df-container {\n",
              "      display:flex;\n",
              "      gap: 12px;\n",
              "    }\n",
              "\n",
              "    .colab-df-convert {\n",
              "      background-color: #E8F0FE;\n",
              "      border: none;\n",
              "      border-radius: 50%;\n",
              "      cursor: pointer;\n",
              "      display: none;\n",
              "      fill: #1967D2;\n",
              "      height: 32px;\n",
              "      padding: 0 0 0 0;\n",
              "      width: 32px;\n",
              "    }\n",
              "\n",
              "    .colab-df-convert:hover {\n",
              "      background-color: #E2EBFA;\n",
              "      box-shadow: 0px 1px 2px rgba(60, 64, 67, 0.3), 0px 1px 3px 1px rgba(60, 64, 67, 0.15);\n",
              "      fill: #174EA6;\n",
              "    }\n",
              "\n",
              "    .colab-df-buttons div {\n",
              "      margin-bottom: 4px;\n",
              "    }\n",
              "\n",
              "    [theme=dark] .colab-df-convert {\n",
              "      background-color: #3B4455;\n",
              "      fill: #D2E3FC;\n",
              "    }\n",
              "\n",
              "    [theme=dark] .colab-df-convert:hover {\n",
              "      background-color: #434B5C;\n",
              "      box-shadow: 0px 1px 3px 1px rgba(0, 0, 0, 0.15);\n",
              "      filter: drop-shadow(0px 1px 2px rgba(0, 0, 0, 0.3));\n",
              "      fill: #FFFFFF;\n",
              "    }\n",
              "  </style>\n",
              "\n",
              "    <script>\n",
              "      const buttonEl =\n",
              "        document.querySelector('#df-3f25b840-e516-48fb-843c-216ba650e393 button.colab-df-convert');\n",
              "      buttonEl.style.display =\n",
              "        google.colab.kernel.accessAllowed ? 'block' : 'none';\n",
              "\n",
              "      async function convertToInteractive(key) {\n",
              "        const element = document.querySelector('#df-3f25b840-e516-48fb-843c-216ba650e393');\n",
              "        const dataTable =\n",
              "          await google.colab.kernel.invokeFunction('convertToInteractive',\n",
              "                                                    [key], {});\n",
              "        if (!dataTable) return;\n",
              "\n",
              "        const docLinkHtml = 'Like what you see? Visit the ' +\n",
              "          '<a target=\"_blank\" href=https://colab.research.google.com/notebooks/data_table.ipynb>data table notebook</a>'\n",
              "          + ' to learn more about interactive tables.';\n",
              "        element.innerHTML = '';\n",
              "        dataTable['output_type'] = 'display_data';\n",
              "        await google.colab.output.renderOutput(dataTable, element);\n",
              "        const docLink = document.createElement('div');\n",
              "        docLink.innerHTML = docLinkHtml;\n",
              "        element.appendChild(docLink);\n",
              "      }\n",
              "    </script>\n",
              "  </div>\n",
              "\n",
              "\n",
              "    <div id=\"df-35bd28ac-f8af-4d3f-ac34-888256e73d6c\">\n",
              "      <button class=\"colab-df-quickchart\" onclick=\"quickchart('df-35bd28ac-f8af-4d3f-ac34-888256e73d6c')\"\n",
              "                title=\"Suggest charts\"\n",
              "                style=\"display:none;\">\n",
              "\n",
              "<svg xmlns=\"http://www.w3.org/2000/svg\" height=\"24px\"viewBox=\"0 0 24 24\"\n",
              "     width=\"24px\">\n",
              "    <g>\n",
              "        <path d=\"M19 3H5c-1.1 0-2 .9-2 2v14c0 1.1.9 2 2 2h14c1.1 0 2-.9 2-2V5c0-1.1-.9-2-2-2zM9 17H7v-7h2v7zm4 0h-2V7h2v10zm4 0h-2v-4h2v4z\"/>\n",
              "    </g>\n",
              "</svg>\n",
              "      </button>\n",
              "\n",
              "<style>\n",
              "  .colab-df-quickchart {\n",
              "      --bg-color: #E8F0FE;\n",
              "      --fill-color: #1967D2;\n",
              "      --hover-bg-color: #E2EBFA;\n",
              "      --hover-fill-color: #174EA6;\n",
              "      --disabled-fill-color: #AAA;\n",
              "      --disabled-bg-color: #DDD;\n",
              "  }\n",
              "\n",
              "  [theme=dark] .colab-df-quickchart {\n",
              "      --bg-color: #3B4455;\n",
              "      --fill-color: #D2E3FC;\n",
              "      --hover-bg-color: #434B5C;\n",
              "      --hover-fill-color: #FFFFFF;\n",
              "      --disabled-bg-color: #3B4455;\n",
              "      --disabled-fill-color: #666;\n",
              "  }\n",
              "\n",
              "  .colab-df-quickchart {\n",
              "    background-color: var(--bg-color);\n",
              "    border: none;\n",
              "    border-radius: 50%;\n",
              "    cursor: pointer;\n",
              "    display: none;\n",
              "    fill: var(--fill-color);\n",
              "    height: 32px;\n",
              "    padding: 0;\n",
              "    width: 32px;\n",
              "  }\n",
              "\n",
              "  .colab-df-quickchart:hover {\n",
              "    background-color: var(--hover-bg-color);\n",
              "    box-shadow: 0 1px 2px rgba(60, 64, 67, 0.3), 0 1px 3px 1px rgba(60, 64, 67, 0.15);\n",
              "    fill: var(--button-hover-fill-color);\n",
              "  }\n",
              "\n",
              "  .colab-df-quickchart-complete:disabled,\n",
              "  .colab-df-quickchart-complete:disabled:hover {\n",
              "    background-color: var(--disabled-bg-color);\n",
              "    fill: var(--disabled-fill-color);\n",
              "    box-shadow: none;\n",
              "  }\n",
              "\n",
              "  .colab-df-spinner {\n",
              "    border: 2px solid var(--fill-color);\n",
              "    border-color: transparent;\n",
              "    border-bottom-color: var(--fill-color);\n",
              "    animation:\n",
              "      spin 1s steps(1) infinite;\n",
              "  }\n",
              "\n",
              "  @keyframes spin {\n",
              "    0% {\n",
              "      border-color: transparent;\n",
              "      border-bottom-color: var(--fill-color);\n",
              "      border-left-color: var(--fill-color);\n",
              "    }\n",
              "    20% {\n",
              "      border-color: transparent;\n",
              "      border-left-color: var(--fill-color);\n",
              "      border-top-color: var(--fill-color);\n",
              "    }\n",
              "    30% {\n",
              "      border-color: transparent;\n",
              "      border-left-color: var(--fill-color);\n",
              "      border-top-color: var(--fill-color);\n",
              "      border-right-color: var(--fill-color);\n",
              "    }\n",
              "    40% {\n",
              "      border-color: transparent;\n",
              "      border-right-color: var(--fill-color);\n",
              "      border-top-color: var(--fill-color);\n",
              "    }\n",
              "    60% {\n",
              "      border-color: transparent;\n",
              "      border-right-color: var(--fill-color);\n",
              "    }\n",
              "    80% {\n",
              "      border-color: transparent;\n",
              "      border-right-color: var(--fill-color);\n",
              "      border-bottom-color: var(--fill-color);\n",
              "    }\n",
              "    90% {\n",
              "      border-color: transparent;\n",
              "      border-bottom-color: var(--fill-color);\n",
              "    }\n",
              "  }\n",
              "</style>\n",
              "\n",
              "      <script>\n",
              "        async function quickchart(key) {\n",
              "          const quickchartButtonEl =\n",
              "            document.querySelector('#' + key + ' button');\n",
              "          quickchartButtonEl.disabled = true;  // To prevent multiple clicks.\n",
              "          quickchartButtonEl.classList.add('colab-df-spinner');\n",
              "          try {\n",
              "            const charts = await google.colab.kernel.invokeFunction(\n",
              "                'suggestCharts', [key], {});\n",
              "          } catch (error) {\n",
              "            console.error('Error during call to suggestCharts:', error);\n",
              "          }\n",
              "          quickchartButtonEl.classList.remove('colab-df-spinner');\n",
              "          quickchartButtonEl.classList.add('colab-df-quickchart-complete');\n",
              "        }\n",
              "        (() => {\n",
              "          let quickchartButtonEl =\n",
              "            document.querySelector('#df-35bd28ac-f8af-4d3f-ac34-888256e73d6c button');\n",
              "          quickchartButtonEl.style.display =\n",
              "            google.colab.kernel.accessAllowed ? 'block' : 'none';\n",
              "        })();\n",
              "      </script>\n",
              "    </div>\n",
              "\n",
              "    </div>\n",
              "  </div>\n"
            ],
            "application/vnd.google.colaboratory.intrinsic+json": {
              "type": "dataframe",
              "variable_name": "ratings",
              "summary": "{\n  \"name\": \"ratings\",\n  \"rows\": 120,\n  \"fields\": [\n    {\n      \"column\": \"Prof\",\n      \"properties\": {\n        \"dtype\": \"string\",\n        \"num_unique_values\": 67,\n        \"samples\": [\n          \"Prof_18\",\n          \"Prof_38\",\n          \"Prof_61\"\n        ],\n        \"semantic_type\": \"\",\n        \"description\": \"\"\n      }\n    },\n    {\n      \"column\": \"Gender\",\n      \"properties\": {\n        \"dtype\": \"category\",\n        \"num_unique_values\": 2,\n        \"samples\": [\n          \"Male\",\n          \"Female\"\n        ],\n        \"semantic_type\": \"\",\n        \"description\": \"\"\n      }\n    },\n    {\n      \"column\": \"Tenure\",\n      \"properties\": {\n        \"dtype\": \"category\",\n        \"num_unique_values\": 2,\n        \"samples\": [\n          \"Yes\",\n          \"No\"\n        ],\n        \"semantic_type\": \"\",\n        \"description\": \"\"\n      }\n    },\n    {\n      \"column\": \"Beauty\",\n      \"properties\": {\n        \"dtype\": \"number\",\n        \"std\": 1.330214360581797,\n        \"min\": 1.5,\n        \"max\": 10.0,\n        \"num_unique_values\": 105,\n        \"samples\": [\n          5.99,\n          6.71\n        ],\n        \"semantic_type\": \"\",\n        \"description\": \"\"\n      }\n    },\n    {\n      \"column\": \"Rating\",\n      \"properties\": {\n        \"dtype\": \"number\",\n        \"std\": 0.5146304798710672,\n        \"min\": 2.72,\n        \"max\": 5.63,\n        \"num_unique_values\": 91,\n        \"samples\": [\n          3.9,\n          3.95\n        ],\n        \"semantic_type\": \"\",\n        \"description\": \"\"\n      }\n    },\n    {\n      \"column\": \"Students\",\n      \"properties\": {\n        \"dtype\": \"number\",\n        \"std\": 34,\n        \"min\": 50,\n        \"max\": 300,\n        \"num_unique_values\": 69,\n        \"samples\": [\n          138,\n          62\n        ],\n        \"semantic_type\": \"\",\n        \"description\": \"\"\n      }\n    },\n    {\n      \"column\": \"Age\",\n      \"properties\": {\n        \"dtype\": \"number\",\n        \"std\": 10,\n        \"min\": 25,\n        \"max\": 59,\n        \"num_unique_values\": 35,\n        \"samples\": [\n          54,\n          43\n        ],\n        \"semantic_type\": \"\",\n        \"description\": \"\"\n      }\n    },\n    {\n      \"column\": \"Division\",\n      \"properties\": {\n        \"dtype\": \"category\",\n        \"num_unique_values\": 2,\n        \"samples\": [\n          \"Lower Division\",\n          \"Upper Division\"\n        ],\n        \"semantic_type\": \"\",\n        \"description\": \"\"\n      }\n    }\n  ]\n}"
            }
          },
          "metadata": {},
          "execution_count": 6
        }
      ]
    },
    {
      "cell_type": "markdown",
      "source": [
        "Q1) Using the teachers' rating dataset, what is the probability of receiving an evaluation score of greater than 4.5"
      ],
      "metadata": {
        "id": "7l6EK2eMKMrp"
      }
    },
    {
      "cell_type": "code",
      "source": [
        "prob_greater_4_5 = (ratings[\"Rating\"] > 4.5).mean()\n",
        "print(f\"Probability of receiving an evaluation score greater than 4.5: {prob_greater_4_5:.3f}\")"
      ],
      "metadata": {
        "id": "k2uuDJXuKD9U",
        "colab": {
          "base_uri": "https://localhost:8080/"
        },
        "outputId": "750e6932-aede-4cf3-c6d2-cf983c6f6c1c"
      },
      "execution_count": 7,
      "outputs": [
        {
          "output_type": "stream",
          "name": "stdout",
          "text": [
            "Probability of receiving an evaluation score greater than 4.5: 0.167\n"
          ]
        }
      ]
    },
    {
      "cell_type": "markdown",
      "source": [
        "-> There is approximately a 16.7% probability that a professor receives a rating greater than 4.5."
      ],
      "metadata": {
        "id": "jneVRdkeKtu7"
      }
    },
    {
      "cell_type": "markdown",
      "source": [
        "Q2. Using the teachers' rating dataset, what is the probability of receiving an evaluation score greater than 3.5 and less than 4.2"
      ],
      "metadata": {
        "id": "kB93uL9iKyNe"
      }
    },
    {
      "cell_type": "code",
      "source": [
        "prob_between = ((ratings[\"Rating\"] > 3.5) & (ratings[\"Rating\"] < 4.2)).mean()\n",
        "print(f\"Probability of receiving an evaluation score between 3.5 and 4.2: {prob_between:.3f}\")"
      ],
      "metadata": {
        "id": "FRjmfyxnK2tK",
        "colab": {
          "base_uri": "https://localhost:8080/"
        },
        "outputId": "9fc9fe09-ad13-468e-a0b7-daf42d7e273a"
      },
      "execution_count": 8,
      "outputs": [
        {
          "output_type": "stream",
          "name": "stdout",
          "text": [
            "Probability of receiving an evaluation score between 3.5 and 4.2: 0.517\n"
          ]
        }
      ]
    },
    {
      "cell_type": "markdown",
      "source": [
        "-> There is approximately a 51.7% probability that a professor’s evaluation score falls between 3.5 and 4.2."
      ],
      "metadata": {
        "id": "yt8ayDy2LB_q"
      }
    },
    {
      "cell_type": "markdown",
      "source": [
        "Q3. Using the two-tailed test from a normal distribution:\n",
        "1. A professional basketball team wants to compare its performance with that of players in a regional league.\n",
        "2. The pros are known to have a historic mean of 12 points per game with a standard deviation of 5.5.\n",
        "3. A group of 36 regional players recorded on average 10.7 points per game.\n",
        "4. The pro coach would like to know whether his professional team scores on average are different from that of the regional players.\n",
        "State the null hypothesis\n",
        "Null Hypo: (\"The mean point of the regional players is not different from the historic mean\")\n",
        "Alternative Hypo: (\"The mean point of the regional players is different from the historic mean\")"
      ],
      "metadata": {
        "id": "sWPXvASZMBmf"
      }
    },
    {
      "cell_type": "markdown",
      "source": [
        "Null Hypothesis (H₀): μ = 12\n",
        "-> “The mean point of the regional players is not different from the historic mean.”\n",
        "\n",
        "Alternative Hypothesis (H₁): μ ≠ 12\n",
        "-> “The mean point of the regional players is different from the historic mean.”\n",
        "\n",
        "This is a two-tailed test."
      ],
      "metadata": {
        "id": "gnxxuzu6MAwn"
      }
    },
    {
      "cell_type": "markdown",
      "source": [
        "Computing the z-score Test:"
      ],
      "metadata": {
        "id": "SAilAoRtMgDk"
      }
    },
    {
      "cell_type": "code",
      "source": [
        "import math\n",
        "import scipy.stats as stats\n",
        "mu = 12\n",
        "sigma = 5.5\n",
        "x_bar = 10.7\n",
        "n = 36\n",
        "z = (x_bar - mu) / (sigma / np.sqrt(n))\n",
        "print(f\"Z-score: {z:.3f}\")\n",
        "p_value = 2 * (1 - stats.norm.cdf(abs(z)))\n",
        "print(\"Two-tailed p-value:\", p_value)\n",
        "alpha = 0.05\n",
        "if p_value < alpha:\n",
        "    print(\"Reject the null hypothesis: There is a significant difference.\")\n",
        "else:\n",
        "    print(\"Fail to reject the null hypothesis: No significant difference.\")"
      ],
      "metadata": {
        "id": "b7LI27pHLD2F",
        "colab": {
          "base_uri": "https://localhost:8080/"
        },
        "outputId": "3c545d04-ffcd-4c27-c517-6875fb007452"
      },
      "execution_count": 9,
      "outputs": [
        {
          "output_type": "stream",
          "name": "stdout",
          "text": [
            "Z-score: -1.418\n",
            "Two-tailed p-value: 0.15613768876786005\n",
            "Fail to reject the null hypothesis: No significant difference.\n"
          ]
        }
      ]
    },
    {
      "cell_type": "markdown",
      "source": [
        "The two-tailed p-value corresponding to z = -1.42 is approximately 0.156.\n",
        "Since p-value (0.156) > 0.05\n"
      ],
      "metadata": {
        "id": "DW57zWSkMw7m"
      }
    },
    {
      "cell_type": "markdown",
      "source": [
        "We fail to reject the null hypothesis.\n",
        "\n",
        "There is no statistically significant difference between the average points scored by the regional players (10.7) and the historic mean of 12 points per game.\n",
        "In other words, the regional players’ scoring performance is not significantly different from that of the professional team."
      ],
      "metadata": {
        "id": "_4PFGfoYM-dl"
      }
    }
  ]
}