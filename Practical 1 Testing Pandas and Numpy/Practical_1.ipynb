{
  "cells": [
    {
      "cell_type": "markdown",
      "metadata": {
        "id": "J0UJEkXynRp5"
      },
      "source": [
        "Creating a Synthetic dataset"
      ]
    },
    {
      "cell_type": "code",
      "execution_count": 1,
      "metadata": {
        "colab": {
          "base_uri": "https://localhost:8080/"
        },
        "id": "Qsp7uSxrmzQC",
        "outputId": "855d36ac-a9de-4790-ce20-75843269d439"
      },
      "outputs": [
        {
          "output_type": "stream",
          "name": "stdout",
          "text": [
            "Synthetic Dataset (100 rows) with NaN values:\n",
            "\n",
            "     Age    Salary Department  Experience\n",
            "0   56.0   38392.0         HR         1.0\n",
            "1   46.0   60535.0  Marketing         2.0\n",
            "2   32.0  108603.0         IT        15.0\n",
            "3   25.0   82256.0         IT         8.0\n",
            "4   38.0  119135.0         IT         3.0\n",
            "5   56.0       NaN    Finance         0.0\n",
            "6   36.0       NaN    Finance         NaN\n",
            "7   40.0  109575.0  Marketing         0.0\n",
            "8   28.0  114651.0  Marketing        13.0\n",
            "9   28.0   93335.0         HR        15.0\n",
            "10  41.0   40965.0         HR        19.0\n",
            "11  53.0   54538.0  Marketing         7.0\n",
            "12  57.0  100592.0    Finance         6.0\n",
            "13  41.0   38110.0         IT         2.0\n",
            "14   NaN       NaN  Marketing        16.0\n"
          ]
        }
      ],
      "source": [
        "import numpy as np\n",
        "import pandas as pd\n",
        "np.random.seed(42)\n",
        "n_rows = 100\n",
        "data = {\n",
        "    \"Age\": np.random.randint(18, 60, size=n_rows),\n",
        "    \"Salary\": np.random.randint(30000, 120000, size=n_rows),\n",
        "    \"Department\": np.random.choice([\"HR\", \"IT\", \"Finance\", \"Marketing\"], size=n_rows),\n",
        "    \"Experience\": np.random.randint(0, 20, size=n_rows)\n",
        "}\n",
        "df = pd.DataFrame(data)\n",
        "nan_indices_salary = np.random.choice(df.index, size=10, replace=False)\n",
        "df.loc[nan_indices_salary, \"Salary\"] = np.nan\n",
        "nan_indices_age = np.random.choice(df.index, size=7, replace=False)\n",
        "df.loc[nan_indices_age, \"Age\"] = np.nan\n",
        "nan_indices_exp = np.random.choice(df.index, size=5, replace=False)\n",
        "df.loc[nan_indices_exp, \"Experience\"] = np.nan\n",
        "print(\"Synthetic Dataset (100 rows) with NaN values:\\n\")\n",
        "print(df.head(15))\n"
      ]
    },
    {
      "cell_type": "markdown",
      "metadata": {
        "id": "0nuaQVEPnqCZ"
      },
      "source": [
        "Problem 1: Compute (a) mean, (b) median, and (c) age-weighted mean of income. Ignore\n",
        "NaNs where appropriate. Explain when a weighted mean is preferable."
      ]
    },
    {
      "cell_type": "code",
      "execution_count": 2,
      "metadata": {
        "id": "9SjyihvBnne_"
      },
      "outputs": [],
      "source": [
        "# (a) Mean salary (ignoring NaNs)\n",
        "mean_income = df[\"Salary\"].mean()\n",
        "# (b) Median salary\n",
        "median_income = df[\"Salary\"].median()\n",
        "\n",
        "# (c) Age-weighted mean salary\n",
        "# Formula: weighted_mean = sum(w*x) / sum(w)\n",
        "valid_data = df.dropna(subset=[\"Age\", \"Salary\"])\n",
        "age_weighted_mean = np.average(valid_data[\"Salary\"], weights=valid_data[\"Age\"])\n"
      ]
    },
    {
      "cell_type": "markdown",
      "metadata": {
        "id": "xSGyb_6gq_zG"
      },
      "source": [
        "Q) When is a Weighted Mean preferable?\n",
        "\n",
        "Ans) When some data points should influence the average more than others.\n",
        "\n",
        "Example:\n",
        "Grading systems (assignments, exams weighted differently).\n",
        "\n",
        "So, Use weighted mean when not all data points are equally important."
      ]
    },
    {
      "cell_type": "code",
      "execution_count": 3,
      "metadata": {
        "colab": {
          "base_uri": "https://localhost:8080/"
        },
        "id": "Ij69wq0hn-LF",
        "outputId": "be7310ba-ecf3-4db2-8e88-2c5cedd507f6"
      },
      "outputs": [
        {
          "output_type": "stream",
          "name": "stdout",
          "text": [
            "Mean Income: 77699.7\n",
            "Median Income: 80932.0\n",
            "Age-Weighted Mean Income: 75213.51340523883\n"
          ]
        }
      ],
      "source": [
        "print(\"Mean Income:\", mean_income)\n",
        "print(\"Median Income:\", median_income)\n",
        "print(\"Age-Weighted Mean Income:\", age_weighted_mean)"
      ]
    },
    {
      "cell_type": "markdown",
      "metadata": {
        "id": "GHDmXld3odUw"
      },
      "source": [
        "Problem 2: Standardize income (z-score). Report how many incomes are outliers using rule |z|> 3. Handle NaNs correctly (do not drop entire rows unnecessarily).\n"
      ]
    },
    {
      "cell_type": "code",
      "execution_count": 4,
      "metadata": {
        "id": "_iUbdjgyoFxa"
      },
      "outputs": [],
      "source": [
        "# Problem 2: Z-score standardization\n",
        "mean_salary = df[\"Salary\"].mean(skipna=True)\n",
        "std_salary = df[\"Salary\"].std(skipna=True)\n",
        "\n",
        "# Compute z-scores for Salary\n",
        "df[\"Salary_z\"] = (df[\"Salary\"] - mean_salary) / std_salary\n",
        "\n",
        "# Identify outliers using |z| > 3\n",
        "outliers = df[\"Salary_z\"].abs() > 3\n",
        "n_outliers = outliers.sum()"
      ]
    },
    {
      "cell_type": "code",
      "execution_count": 5,
      "metadata": {
        "colab": {
          "base_uri": "https://localhost:8080/"
        },
        "id": "_xmo9pYbo269",
        "outputId": "d7e4d775-2b73-4593-d084-f40721a82f2d"
      },
      "outputs": [
        {
          "output_type": "stream",
          "name": "stdout",
          "text": [
            "Mean Salary: 77699.7\n",
            "Std Dev Salary: 25821.535381746504\n",
            "Number of Outliers (|z| > 3): 0\n",
            "\n",
            "Rows with z-scores:\n",
            "       Salary  Salary_z\n",
            "0    38392.0 -1.522284\n",
            "1    60535.0 -0.664744\n",
            "2   108603.0  1.196803\n",
            "3    82256.0  0.176453\n",
            "4   119135.0  1.604680\n",
            "5        NaN       NaN\n",
            "6        NaN       NaN\n",
            "7   109575.0  1.234446\n",
            "8   114651.0  1.431026\n",
            "9    93335.0  0.605514\n",
            "10   40965.0 -1.422638\n",
            "11   54538.0 -0.896992\n",
            "12  100592.0  0.886558\n",
            "13   38110.0 -1.533205\n",
            "14       NaN       NaN\n"
          ]
        }
      ],
      "source": [
        "print(\"Mean Salary:\", mean_salary)\n",
        "print(\"Std Dev Salary:\", std_salary)\n",
        "print(\"Number of Outliers (|z| > 3):\", n_outliers)\n",
        "print(\"\\nRows with z-scores:\\n\", df[[\"Salary\", \"Salary_z\"]].head(15))"
      ]
    },
    {
      "cell_type": "markdown",
      "metadata": {
        "id": "L9KLkBAXpsIj"
      },
      "source": [
        "Problem 3: Create age bins: [18-25), [25-35), [35-45), [45-60) and compute for each bin:\n",
        "● count of observations,\n",
        "● mean income,\n",
        "● median score.\n",
        "Show result as a tidy DataFrame sorted by age bin.\n"
      ]
    },
    {
      "cell_type": "code",
      "execution_count": 6,
      "metadata": {
        "colab": {
          "base_uri": "https://localhost:8080/"
        },
        "id": "BMBanu-BptKf",
        "outputId": "c7f3a816-0274-472d-e1d8-dca6ce4da67a"
      },
      "outputs": [
        {
          "output_type": "stream",
          "name": "stderr",
          "text": [
            "/tmp/ipython-input-3577380191.py:8: FutureWarning: The default of observed=False is deprecated and will be changed to True in a future version of pandas. Pass observed=False to retain current behavior or observed=True to adopt the future default and silence this warning.\n",
            "  result = df.groupby(\"Age_bin\").agg(\n"
          ]
        }
      ],
      "source": [
        "# Problem 3: Age Bins\n",
        "bins = [18, 25, 35, 45, 60]\n",
        "labels = [\"18-25\", \"25-35\", \"35-45\", \"45-60\"]\n",
        "\n",
        "df[\"Age_bin\"] = pd.cut(df[\"Age\"], bins=bins, labels=labels, right=False)\n",
        "\n",
        "# Group by age bin\n",
        "result = df.groupby(\"Age_bin\").agg(\n",
        "    count_obs=(\"Salary\", \"count\"),\n",
        "    mean_income=(\"Salary\", \"mean\"),\n",
        "    median_income=(\"Salary\", \"median\")\n",
        ").reset_index()\n",
        "result = result.sort_values(\"Age_bin\")"
      ]
    },
    {
      "cell_type": "code",
      "execution_count": 7,
      "metadata": {
        "colab": {
          "base_uri": "https://localhost:8080/"
        },
        "id": "4Jhmv7tFpx-y",
        "outputId": "312853db-329d-412f-b47d-198d21e63470"
      },
      "outputs": [
        {
          "output_type": "stream",
          "name": "stdout",
          "text": [
            "  Age_bin  count_obs   mean_income  median_income\n",
            "0   18-25         15  81925.133333        82992.0\n",
            "1   25-35         22  82382.954545        80932.0\n",
            "2   35-45         19  79670.947368        84384.0\n",
            "3   45-60         29  68153.793103        60535.0\n"
          ]
        }
      ],
      "source": [
        "print(result)"
      ]
    },
    {
      "cell_type": "markdown",
      "metadata": {
        "id": "nXSu5D_6p42a"
      },
      "source": [
        "Problem 4: Create an array it cannot be of 1 Dimension. And then showcase the operation for\n",
        "the following:\n",
        "● Shape and Resize → shape, size, Transpose, Flatten\n",
        "● Showcasing negative indexing and display error while doing slicing\n",
        "● Arithmetic Operations → Broadcasting, Dot Product\n",
        "● Linear Algebra → Determinant, Inverse"
      ]
    },
    {
      "cell_type": "code",
      "execution_count": 10,
      "metadata": {
        "colab": {
          "base_uri": "https://localhost:8080/"
        },
        "id": "CwZaV0ggp-YT",
        "outputId": "f87dac35-17b9-4c45-fb98-6a44a8c33908"
      },
      "outputs": [
        {
          "output_type": "stream",
          "name": "stdout",
          "text": [
            "Original Array:\n",
            " [[7 4 8]\n",
            " [5 7 3]\n",
            " [7 8 5]]\n",
            "\n",
            "Shape: (3, 3)\n",
            "Size: 9\n",
            "Transpose:\n",
            " [[7 5 7]\n",
            " [4 7 8]\n",
            " [8 3 5]]\n",
            "Flatten:\n",
            " [7 4 8 5 7 3 7 8 5]\n",
            "\n",
            "Last Row (negative indexing): [7 8 5]\n",
            "Last Element in 2D array: 5\n",
            "\n",
            "IndexError: index -5 is out of bounds for axis 0 with size 3\n"
          ]
        }
      ],
      "source": [
        "np.random.seed(42)\n",
        "arr = np.random.randint(1, 10, size=(3, 3))\n",
        "print(\"Original Array:\\n\", arr)\n",
        "\n",
        "# Shape and Resize\n",
        "print(\"\\nShape:\", arr.shape)\n",
        "print(\"Size:\", arr.size)\n",
        "print(\"Transpose:\\n\", arr.T)\n",
        "print(\"Flatten:\\n\", arr.flatten())\n",
        "\n",
        "# Negative Indexing\n",
        "print(\"\\nLast Row (negative indexing):\", arr[-1])\n",
        "print(\"Last Element in 2D array:\", arr[-1, -1])\n",
        "\n",
        "# Error in slicing\n",
        "try:\n",
        "    print(arr[-5])\n",
        "except IndexError as e:\n",
        "    print(\"\\nIndexError:\", e)\n",
        "\n"
      ]
    },
    {
      "cell_type": "code",
      "execution_count": 9,
      "metadata": {
        "colab": {
          "base_uri": "https://localhost:8080/"
        },
        "id": "8hIuLx9sqhrz",
        "outputId": "808dda1b-fc8e-4c57-deab-4a6d5250ed97"
      },
      "outputs": [
        {
          "output_type": "stream",
          "name": "stdout",
          "text": [
            "\n",
            "Broadcasting (arr + 5):\n",
            " [[12  9 13]\n",
            " [10 12  8]\n",
            " [12 13 10]]\n",
            "\n",
            "Dot Product (arr x arr):\n",
            " [[125 120 108]\n",
            " [ 91  93  76]\n",
            " [124 124 105]]\n",
            "\n",
            "Determinant: -11.00000000000003\n",
            "Inverse:\n",
            " [[-1.         -4.          4.        ]\n",
            " [ 0.36363636  1.90909091 -1.72727273]\n",
            " [ 0.81818182  2.54545455 -2.63636364]]\n"
          ]
        }
      ],
      "source": [
        "# Arithmetic Operations\n",
        "# Broadcasting (adding scalar)\n",
        "print(\"\\nBroadcasting (arr + 5):\\n\", arr + 5)\n",
        "\n",
        "# Dot product (matrix multiplication)\n",
        "dot_product = np.dot(arr, arr)\n",
        "print(\"\\nDot Product (arr x arr):\\n\", dot_product)\n",
        "\n",
        "# Linear Algebra Operations\n",
        "det = np.linalg.det(arr)\n",
        "print(\"\\nDeterminant:\", det)\n",
        "\n",
        "# Inverse (only if determinant != 0)\n",
        "if det != 0:\n",
        "    inv = np.linalg.inv(arr)\n",
        "    print(\"Inverse:\\n\", inv)\n",
        "else:\n",
        "    print(\"Matrix is singular, inverse does not exist\")"
      ]
    }
  ],
  "metadata": {
    "colab": {
      "provenance": []
    },
    "kernelspec": {
      "display_name": "base",
      "language": "python",
      "name": "python3"
    },
    "language_info": {
      "codemirror_mode": {
        "name": "ipython",
        "version": 3
      },
      "file_extension": ".py",
      "mimetype": "text/x-python",
      "name": "python",
      "nbconvert_exporter": "python",
      "pygments_lexer": "ipython3",
      "version": "3.13.5"
    }
  },
  "nbformat": 4,
  "nbformat_minor": 0
}