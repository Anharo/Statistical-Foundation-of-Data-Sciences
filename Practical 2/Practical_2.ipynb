{
  "nbformat": 4,
  "nbformat_minor": 0,
  "metadata": {
    "colab": {
      "provenance": []
    },
    "kernelspec": {
      "name": "python3",
      "display_name": "Python 3"
    },
    "language_info": {
      "name": "python"
    }
  },
  "cells": [
    {
      "cell_type": "markdown",
      "source": [
        "Importing necessary libraries"
      ],
      "metadata": {
        "id": "uCvkRYVoXGLb"
      }
    },
    {
      "cell_type": "code",
      "execution_count": null,
      "metadata": {
        "id": "0WDJi5J0WH4K"
      },
      "outputs": [],
      "source": [
        "import pandas as pd\n",
        "import numpy as np\n",
        "import matplotlib.pyplot as plt\n",
        "import random"
      ]
    },
    {
      "cell_type": "markdown",
      "source": [
        "Making a random Teacher rating dataset."
      ],
      "metadata": {
        "id": "K3WpXdfTYF6y"
      }
    },
    {
      "cell_type": "code",
      "source": [
        "np.random.seed(42)\n",
        "random.seed(42)\n",
        "n = 120\n",
        "prof_names = [f\"Prof_{i}\" for i in np.random.randint(1, 95, n)]\n",
        "gender = np.random.choice(['Male', 'Female'], size=n)\n",
        "tenure = np.random.choice(['Yes', 'No'], size=n)\n",
        "beauty = np.random.normal(6, 1.2, n)\n",
        "rating = np.random.normal(4, 0.5, n)\n",
        "students = np.random.randint(50, 150, n)\n",
        "age = np.random.randint(25, 60, n)\n",
        "division = np.random.choice(['Lower Division', 'Upper Division'], size=n)\n",
        "outlier_indices = random.sample(range(n), 3)\n",
        "beauty[outlier_indices[0]] = 10.0\n",
        "beauty[outlier_indices[1]] = 1.5\n",
        "students[outlier_indices[2]] = 300"
      ],
      "metadata": {
        "id": "6QwU2ga9XLr_"
      },
      "execution_count": null,
      "outputs": []
    },
    {
      "cell_type": "code",
      "source": [
        "df = pd.DataFrame({\n",
        "    'Prof': prof_names,\n",
        "    'Gender': gender,\n",
        "    'Tenure': tenure,\n",
        "    'Beauty': beauty.round(2),\n",
        "    'Rating': rating.round(2),\n",
        "    'Students': students,\n",
        "    'Age': age,\n",
        "    'Division': division\n",
        "})"
      ],
      "metadata": {
        "id": "NV8q_PEIX1pP"
      },
      "execution_count": null,
      "outputs": []
    },
    {
      "cell_type": "code",
      "source": [
        "print(\"===== Teachers Rating Dataset (First 10 Rows) =====\")\n",
        "print(df.head(10), \"\\n\")"
      ],
      "metadata": {
        "colab": {
          "base_uri": "https://localhost:8080/"
        },
        "id": "j9C5NrtkX6E8",
        "outputId": "c08e9f3a-62e9-4013-a5d2-ac632edd8984"
      },
      "execution_count": null,
      "outputs": [
        {
          "output_type": "stream",
          "name": "stdout",
          "text": [
            "===== Teachers Rating Dataset (First 10 Rows) =====\n",
            "      Prof  Gender Tenure  Beauty  Rating  Students  Age        Division\n",
            "0  Prof_52  Female     No    5.66    4.11        62   26  Upper Division\n",
            "1  Prof_93    Male    Yes    7.28    3.86        95   37  Lower Division\n",
            "2  Prof_15  Female     No    7.02    4.22        84   35  Upper Division\n",
            "3  Prof_72    Male    Yes    8.15    4.57       300   47  Lower Division\n",
            "4  Prof_61  Female     No    6.68    4.25       131   40  Lower Division\n",
            "5  Prof_21    Male     No    5.80    4.53       118   55  Upper Division\n",
            "6  Prof_83    Male     No    5.83    3.67        96   35  Upper Division\n",
            "7  Prof_87  Female     No    3.68    3.57        74   40  Upper Division\n",
            "8  Prof_75  Female    Yes    6.18    3.73       115   32  Upper Division\n",
            "9  Prof_75  Female     No    5.98    3.37        59   28  Lower Division \n",
            "\n"
          ]
        }
      ]
    },
    {
      "cell_type": "markdown",
      "source": [
        "Q1. Can you identify whether teachers Rating Data is a time serires or cross sectional?"
      ],
      "metadata": {
        "id": "poq3qZJjYOnk"
      }
    },
    {
      "cell_type": "markdown",
      "source": [
        "Ans) The Teachers Rating Data is a cross-sectional dataset as a time series dataset tracks how one entity’s values change over time (e.g., a teacher’s rating each month for several years) but here we captures different entities at a single point in time (e.g., multiple teachers’ ratings collected during one semester)."
      ],
      "metadata": {
        "id": "4RjdVgx4Ygc1"
      }
    },
    {
      "cell_type": "markdown",
      "source": [
        "Q2. Find the mean, median, minimum and maximum values for the students."
      ],
      "metadata": {
        "id": "glR7BSS1Y_td"
      }
    },
    {
      "cell_type": "code",
      "source": [
        "mean_students = df['Students'].mean()\n",
        "median_students = df['Students'].median()\n",
        "min_students = df['Students'].min()\n",
        "max_students = df['Students'].max()\n",
        "\n",
        "print(\"Mean:\", round(mean_students, 2))\n",
        "print(\"Median:\", round(median_students, 2))\n",
        "print(\"Minimum:\", min_students)\n",
        "print(\"Maximum:\", max_students)\n"
      ],
      "metadata": {
        "colab": {
          "base_uri": "https://localhost:8080/"
        },
        "id": "biTYn2YAYDly",
        "outputId": "3cad4260-df5a-43ff-fc2e-369e4c81fbf6"
      },
      "execution_count": null,
      "outputs": [
        {
          "output_type": "stream",
          "name": "stdout",
          "text": [
            "Mean: 102.66\n",
            "Median: 102.0\n",
            "Minimum: 50\n",
            "Maximum: 300\n"
          ]
        }
      ]
    },
    {
      "cell_type": "markdown",
      "source": [
        "Q3. Produce the descriptive statistics table."
      ],
      "metadata": {
        "id": "TUkHbwNZ64BC"
      }
    },
    {
      "cell_type": "code",
      "source": [
        "df.describe()"
      ],
      "metadata": {
        "colab": {
          "base_uri": "https://localhost:8080/",
          "height": 300
        },
        "id": "sEU7vq6q6-A0",
        "outputId": "5b4392fa-de01-47a7-da08-008af1a72591"
      },
      "execution_count": null,
      "outputs": [
        {
          "output_type": "execute_result",
          "data": {
            "text/plain": [
              "           Beauty      Rating    Students         Age\n",
              "count  120.000000  120.000000  120.000000  120.000000\n",
              "mean     6.041083    3.944083  102.658333   41.408333\n",
              "std      1.330214    0.514630   34.711898   10.064077\n",
              "min      1.500000    2.720000   50.000000   25.000000\n",
              "25%      5.300000    3.580000   77.500000   32.000000\n",
              "50%      5.965000    3.915000  102.000000   42.000000\n",
              "75%      6.737500    4.252500  128.000000   50.000000\n",
              "max     10.000000    5.630000  300.000000   59.000000"
            ],
            "text/html": [
              "\n",
              "  <div id=\"df-3678aef9-54f3-4c3a-a8b2-a495ea5ce1c2\" class=\"colab-df-container\">\n",
              "    <div>\n",
              "<style scoped>\n",
              "    .dataframe tbody tr th:only-of-type {\n",
              "        vertical-align: middle;\n",
              "    }\n",
              "\n",
              "    .dataframe tbody tr th {\n",
              "        vertical-align: top;\n",
              "    }\n",
              "\n",
              "    .dataframe thead th {\n",
              "        text-align: right;\n",
              "    }\n",
              "</style>\n",
              "<table border=\"1\" class=\"dataframe\">\n",
              "  <thead>\n",
              "    <tr style=\"text-align: right;\">\n",
              "      <th></th>\n",
              "      <th>Beauty</th>\n",
              "      <th>Rating</th>\n",
              "      <th>Students</th>\n",
              "      <th>Age</th>\n",
              "    </tr>\n",
              "  </thead>\n",
              "  <tbody>\n",
              "    <tr>\n",
              "      <th>count</th>\n",
              "      <td>120.000000</td>\n",
              "      <td>120.000000</td>\n",
              "      <td>120.000000</td>\n",
              "      <td>120.000000</td>\n",
              "    </tr>\n",
              "    <tr>\n",
              "      <th>mean</th>\n",
              "      <td>6.041083</td>\n",
              "      <td>3.944083</td>\n",
              "      <td>102.658333</td>\n",
              "      <td>41.408333</td>\n",
              "    </tr>\n",
              "    <tr>\n",
              "      <th>std</th>\n",
              "      <td>1.330214</td>\n",
              "      <td>0.514630</td>\n",
              "      <td>34.711898</td>\n",
              "      <td>10.064077</td>\n",
              "    </tr>\n",
              "    <tr>\n",
              "      <th>min</th>\n",
              "      <td>1.500000</td>\n",
              "      <td>2.720000</td>\n",
              "      <td>50.000000</td>\n",
              "      <td>25.000000</td>\n",
              "    </tr>\n",
              "    <tr>\n",
              "      <th>25%</th>\n",
              "      <td>5.300000</td>\n",
              "      <td>3.580000</td>\n",
              "      <td>77.500000</td>\n",
              "      <td>32.000000</td>\n",
              "    </tr>\n",
              "    <tr>\n",
              "      <th>50%</th>\n",
              "      <td>5.965000</td>\n",
              "      <td>3.915000</td>\n",
              "      <td>102.000000</td>\n",
              "      <td>42.000000</td>\n",
              "    </tr>\n",
              "    <tr>\n",
              "      <th>75%</th>\n",
              "      <td>6.737500</td>\n",
              "      <td>4.252500</td>\n",
              "      <td>128.000000</td>\n",
              "      <td>50.000000</td>\n",
              "    </tr>\n",
              "    <tr>\n",
              "      <th>max</th>\n",
              "      <td>10.000000</td>\n",
              "      <td>5.630000</td>\n",
              "      <td>300.000000</td>\n",
              "      <td>59.000000</td>\n",
              "    </tr>\n",
              "  </tbody>\n",
              "</table>\n",
              "</div>\n",
              "    <div class=\"colab-df-buttons\">\n",
              "\n",
              "  <div class=\"colab-df-container\">\n",
              "    <button class=\"colab-df-convert\" onclick=\"convertToInteractive('df-3678aef9-54f3-4c3a-a8b2-a495ea5ce1c2')\"\n",
              "            title=\"Convert this dataframe to an interactive table.\"\n",
              "            style=\"display:none;\">\n",
              "\n",
              "  <svg xmlns=\"http://www.w3.org/2000/svg\" height=\"24px\" viewBox=\"0 -960 960 960\">\n",
              "    <path d=\"M120-120v-720h720v720H120Zm60-500h600v-160H180v160Zm220 220h160v-160H400v160Zm0 220h160v-160H400v160ZM180-400h160v-160H180v160Zm440 0h160v-160H620v160ZM180-180h160v-160H180v160Zm440 0h160v-160H620v160Z\"/>\n",
              "  </svg>\n",
              "    </button>\n",
              "\n",
              "  <style>\n",
              "    .colab-df-container {\n",
              "      display:flex;\n",
              "      gap: 12px;\n",
              "    }\n",
              "\n",
              "    .colab-df-convert {\n",
              "      background-color: #E8F0FE;\n",
              "      border: none;\n",
              "      border-radius: 50%;\n",
              "      cursor: pointer;\n",
              "      display: none;\n",
              "      fill: #1967D2;\n",
              "      height: 32px;\n",
              "      padding: 0 0 0 0;\n",
              "      width: 32px;\n",
              "    }\n",
              "\n",
              "    .colab-df-convert:hover {\n",
              "      background-color: #E2EBFA;\n",
              "      box-shadow: 0px 1px 2px rgba(60, 64, 67, 0.3), 0px 1px 3px 1px rgba(60, 64, 67, 0.15);\n",
              "      fill: #174EA6;\n",
              "    }\n",
              "\n",
              "    .colab-df-buttons div {\n",
              "      margin-bottom: 4px;\n",
              "    }\n",
              "\n",
              "    [theme=dark] .colab-df-convert {\n",
              "      background-color: #3B4455;\n",
              "      fill: #D2E3FC;\n",
              "    }\n",
              "\n",
              "    [theme=dark] .colab-df-convert:hover {\n",
              "      background-color: #434B5C;\n",
              "      box-shadow: 0px 1px 3px 1px rgba(0, 0, 0, 0.15);\n",
              "      filter: drop-shadow(0px 1px 2px rgba(0, 0, 0, 0.3));\n",
              "      fill: #FFFFFF;\n",
              "    }\n",
              "  </style>\n",
              "\n",
              "    <script>\n",
              "      const buttonEl =\n",
              "        document.querySelector('#df-3678aef9-54f3-4c3a-a8b2-a495ea5ce1c2 button.colab-df-convert');\n",
              "      buttonEl.style.display =\n",
              "        google.colab.kernel.accessAllowed ? 'block' : 'none';\n",
              "\n",
              "      async function convertToInteractive(key) {\n",
              "        const element = document.querySelector('#df-3678aef9-54f3-4c3a-a8b2-a495ea5ce1c2');\n",
              "        const dataTable =\n",
              "          await google.colab.kernel.invokeFunction('convertToInteractive',\n",
              "                                                    [key], {});\n",
              "        if (!dataTable) return;\n",
              "\n",
              "        const docLinkHtml = 'Like what you see? Visit the ' +\n",
              "          '<a target=\"_blank\" href=https://colab.research.google.com/notebooks/data_table.ipynb>data table notebook</a>'\n",
              "          + ' to learn more about interactive tables.';\n",
              "        element.innerHTML = '';\n",
              "        dataTable['output_type'] = 'display_data';\n",
              "        await google.colab.output.renderOutput(dataTable, element);\n",
              "        const docLink = document.createElement('div');\n",
              "        docLink.innerHTML = docLinkHtml;\n",
              "        element.appendChild(docLink);\n",
              "      }\n",
              "    </script>\n",
              "  </div>\n",
              "\n",
              "\n",
              "    <div id=\"df-1e748dcc-0cdc-466a-9bbc-94b6e6b538ee\">\n",
              "      <button class=\"colab-df-quickchart\" onclick=\"quickchart('df-1e748dcc-0cdc-466a-9bbc-94b6e6b538ee')\"\n",
              "                title=\"Suggest charts\"\n",
              "                style=\"display:none;\">\n",
              "\n",
              "<svg xmlns=\"http://www.w3.org/2000/svg\" height=\"24px\"viewBox=\"0 0 24 24\"\n",
              "     width=\"24px\">\n",
              "    <g>\n",
              "        <path d=\"M19 3H5c-1.1 0-2 .9-2 2v14c0 1.1.9 2 2 2h14c1.1 0 2-.9 2-2V5c0-1.1-.9-2-2-2zM9 17H7v-7h2v7zm4 0h-2V7h2v10zm4 0h-2v-4h2v4z\"/>\n",
              "    </g>\n",
              "</svg>\n",
              "      </button>\n",
              "\n",
              "<style>\n",
              "  .colab-df-quickchart {\n",
              "      --bg-color: #E8F0FE;\n",
              "      --fill-color: #1967D2;\n",
              "      --hover-bg-color: #E2EBFA;\n",
              "      --hover-fill-color: #174EA6;\n",
              "      --disabled-fill-color: #AAA;\n",
              "      --disabled-bg-color: #DDD;\n",
              "  }\n",
              "\n",
              "  [theme=dark] .colab-df-quickchart {\n",
              "      --bg-color: #3B4455;\n",
              "      --fill-color: #D2E3FC;\n",
              "      --hover-bg-color: #434B5C;\n",
              "      --hover-fill-color: #FFFFFF;\n",
              "      --disabled-bg-color: #3B4455;\n",
              "      --disabled-fill-color: #666;\n",
              "  }\n",
              "\n",
              "  .colab-df-quickchart {\n",
              "    background-color: var(--bg-color);\n",
              "    border: none;\n",
              "    border-radius: 50%;\n",
              "    cursor: pointer;\n",
              "    display: none;\n",
              "    fill: var(--fill-color);\n",
              "    height: 32px;\n",
              "    padding: 0;\n",
              "    width: 32px;\n",
              "  }\n",
              "\n",
              "  .colab-df-quickchart:hover {\n",
              "    background-color: var(--hover-bg-color);\n",
              "    box-shadow: 0 1px 2px rgba(60, 64, 67, 0.3), 0 1px 3px 1px rgba(60, 64, 67, 0.15);\n",
              "    fill: var(--button-hover-fill-color);\n",
              "  }\n",
              "\n",
              "  .colab-df-quickchart-complete:disabled,\n",
              "  .colab-df-quickchart-complete:disabled:hover {\n",
              "    background-color: var(--disabled-bg-color);\n",
              "    fill: var(--disabled-fill-color);\n",
              "    box-shadow: none;\n",
              "  }\n",
              "\n",
              "  .colab-df-spinner {\n",
              "    border: 2px solid var(--fill-color);\n",
              "    border-color: transparent;\n",
              "    border-bottom-color: var(--fill-color);\n",
              "    animation:\n",
              "      spin 1s steps(1) infinite;\n",
              "  }\n",
              "\n",
              "  @keyframes spin {\n",
              "    0% {\n",
              "      border-color: transparent;\n",
              "      border-bottom-color: var(--fill-color);\n",
              "      border-left-color: var(--fill-color);\n",
              "    }\n",
              "    20% {\n",
              "      border-color: transparent;\n",
              "      border-left-color: var(--fill-color);\n",
              "      border-top-color: var(--fill-color);\n",
              "    }\n",
              "    30% {\n",
              "      border-color: transparent;\n",
              "      border-left-color: var(--fill-color);\n",
              "      border-top-color: var(--fill-color);\n",
              "      border-right-color: var(--fill-color);\n",
              "    }\n",
              "    40% {\n",
              "      border-color: transparent;\n",
              "      border-right-color: var(--fill-color);\n",
              "      border-top-color: var(--fill-color);\n",
              "    }\n",
              "    60% {\n",
              "      border-color: transparent;\n",
              "      border-right-color: var(--fill-color);\n",
              "    }\n",
              "    80% {\n",
              "      border-color: transparent;\n",
              "      border-right-color: var(--fill-color);\n",
              "      border-bottom-color: var(--fill-color);\n",
              "    }\n",
              "    90% {\n",
              "      border-color: transparent;\n",
              "      border-bottom-color: var(--fill-color);\n",
              "    }\n",
              "  }\n",
              "</style>\n",
              "\n",
              "      <script>\n",
              "        async function quickchart(key) {\n",
              "          const quickchartButtonEl =\n",
              "            document.querySelector('#' + key + ' button');\n",
              "          quickchartButtonEl.disabled = true;  // To prevent multiple clicks.\n",
              "          quickchartButtonEl.classList.add('colab-df-spinner');\n",
              "          try {\n",
              "            const charts = await google.colab.kernel.invokeFunction(\n",
              "                'suggestCharts', [key], {});\n",
              "          } catch (error) {\n",
              "            console.error('Error during call to suggestCharts:', error);\n",
              "          }\n",
              "          quickchartButtonEl.classList.remove('colab-df-spinner');\n",
              "          quickchartButtonEl.classList.add('colab-df-quickchart-complete');\n",
              "        }\n",
              "        (() => {\n",
              "          let quickchartButtonEl =\n",
              "            document.querySelector('#df-1e748dcc-0cdc-466a-9bbc-94b6e6b538ee button');\n",
              "          quickchartButtonEl.style.display =\n",
              "            google.colab.kernel.accessAllowed ? 'block' : 'none';\n",
              "        })();\n",
              "      </script>\n",
              "    </div>\n",
              "\n",
              "    </div>\n",
              "  </div>\n"
            ],
            "application/vnd.google.colaboratory.intrinsic+json": {
              "type": "dataframe",
              "summary": "{\n  \"name\": \"df\",\n  \"rows\": 8,\n  \"fields\": [\n    {\n      \"column\": \"Beauty\",\n      \"properties\": {\n        \"dtype\": \"number\",\n        \"std\": 40.661329011677935,\n        \"min\": 1.330214360581797,\n        \"max\": 120.0,\n        \"num_unique_values\": 8,\n        \"samples\": [\n          6.041083333333333,\n          5.965,\n          120.0\n        ],\n        \"semantic_type\": \"\",\n        \"description\": \"\"\n      }\n    },\n    {\n      \"column\": \"Rating\",\n      \"properties\": {\n        \"dtype\": \"number\",\n        \"std\": 41.21213578221136,\n        \"min\": 0.5146304798710672,\n        \"max\": 120.0,\n        \"num_unique_values\": 8,\n        \"samples\": [\n          3.9440833333333334,\n          3.915,\n          120.0\n        ],\n        \"semantic_type\": \"\",\n        \"description\": \"\"\n      }\n    },\n    {\n      \"column\": \"Students\",\n      \"properties\": {\n        \"dtype\": \"number\",\n        \"std\": 81.77884520894933,\n        \"min\": 34.711898483928294,\n        \"max\": 300.0,\n        \"num_unique_values\": 8,\n        \"samples\": [\n          102.65833333333333,\n          102.0,\n          120.0\n        ],\n        \"semantic_type\": \"\",\n        \"description\": \"\"\n      }\n    },\n    {\n      \"column\": \"Age\",\n      \"properties\": {\n        \"dtype\": \"number\",\n        \"std\": 32.971897007125584,\n        \"min\": 10.064076920299403,\n        \"max\": 120.0,\n        \"num_unique_values\": 8,\n        \"samples\": [\n          41.40833333333333,\n          42.0,\n          120.0\n        ],\n        \"semantic_type\": \"\",\n        \"description\": \"\"\n      }\n    }\n  ]\n}"
            }
          },
          "metadata": {},
          "execution_count": 6
        }
      ]
    },
    {
      "cell_type": "markdown",
      "source": [
        "Q4. Create a histogram of the beauty variable and breifly comment on the distribution of the data."
      ],
      "metadata": {
        "id": "lzEbSHtsZNkT"
      }
    },
    {
      "cell_type": "code",
      "source": [
        "plt.figure(figsize=(8,5))\n",
        "plt.hist(df['Beauty'], bins=8, color='lightcoral', edgecolor='black')\n",
        "plt.title('Histogram of Beauty Variable')\n",
        "plt.xlabel('Beauty Score')\n",
        "plt.ylabel('Frequency')\n",
        "plt.grid(axis='y', linestyle='--', alpha=0.6)\n",
        "plt.show()"
      ],
      "metadata": {
        "colab": {
          "base_uri": "https://localhost:8080/",
          "height": 487
        },
        "id": "nYsxpVusZGEB",
        "outputId": "be51f703-2552-448f-cc9d-6fdac4b54b10"
      },
      "execution_count": null,
      "outputs": [
        {
          "output_type": "display_data",
          "data": {
            "text/plain": [
              "<Figure size 800x500 with 1 Axes>"
            ],
            "image/png": "[encoded data removed]"
          },
          "metadata": {}
        }
      ]
    },
    {
      "cell_type": "markdown",
      "source": [
        "The distribution is approximately normal (bell-shaped) with most scores around the mean (≈6).\n",
        "\n",
        "However, there are visible outliers:\n",
        "\n",
        "->One unusually high beauty score (~10)\n",
        "\n",
        "->One unusually low beauty score (~1.5)\n",
        "\n",
        "These outliers cause slight skewness in the data."
      ],
      "metadata": {
        "id": "SKeDcCmS7nlw"
      }
    },
    {
      "cell_type": "markdown",
      "source": [
        "Q5. Does average beauty score differ by gender? Produce the means and standard deviations for both male and female instructors 6"
      ],
      "metadata": {
        "id": "VJohSG5hZwZI"
      }
    },
    {
      "cell_type": "code",
      "source": [
        "beauty_by_gender = df.groupby('Gender')['Beauty'].agg(['mean', 'std', 'count']).round(2)\n",
        "print(beauty_by_gender)\n"
      ],
      "metadata": {
        "colab": {
          "base_uri": "https://localhost:8080/"
        },
        "id": "0KYG7xnJZdKA",
        "outputId": "8f218b73-c106-44ec-ec0d-a40b7d29b33f"
      },
      "execution_count": null,
      "outputs": [
        {
          "output_type": "stream",
          "name": "stdout",
          "text": [
            "        mean   std  count\n",
            "Gender                   \n",
            "Female  6.03  1.36     54\n",
            "Male    6.05  1.32     66\n"
          ]
        }
      ]
    },
    {
      "cell_type": "markdown",
      "source": [
        "Female mean beauty score = 6.03, Male mean = 6.05\n",
        "\n",
        "\n",
        "->On average, Both genders have equal beauty score with male slightly leading.\n",
        "\n",
        "\n",
        "->The difference is moderate, but both distributions have similar variability.\n",
        "\n",
        "The average beauty score differs slightly by gender so male instructors tend to have higher mean beauty scores than female instructors, though both groups show comparable variation in scores."
      ],
      "metadata": {
        "id": "sfc7glJlZ5nF"
      }
    },
    {
      "cell_type": "markdown",
      "source": [
        "Q6. Calculate the percentage of males and females that are tenured professors. Will you say that tenure status differ by gender?"
      ],
      "metadata": {
        "id": "b77KSJVbbKh3"
      }
    },
    {
      "cell_type": "code",
      "source": [
        "tenure_counts = df.groupby(['Gender', 'Tenure']).size().unstack(fill_value=0)\n",
        "tenure_counts['% Tenured'] = round((tenure_counts['Yes'] / tenure_counts.sum(axis=1)) * 100, 2)\n",
        "print(tenure_counts)\n"
      ],
      "metadata": {
        "colab": {
          "base_uri": "https://localhost:8080/"
        },
        "id": "48MC9IVIbmpt",
        "outputId": "8bf07f4d-5cf1-4303-c309-db4ef84b5c93"
      },
      "execution_count": null,
      "outputs": [
        {
          "output_type": "stream",
          "name": "stdout",
          "text": [
            "Tenure  No  Yes  % Tenured\n",
            "Gender                    \n",
            "Female  30   24      44.44\n",
            "Male    31   35      53.03\n"
          ]
        }
      ]
    },
    {
      "cell_type": "markdown",
      "source": [
        "->Yes, in this dataset male instructors have a higher tenure percentage than females.\n",
        "\n",
        "->Females have a higher proportion of tenured professors than males.\n",
        "\n",
        "This shows a gender-based difference in tenure, at least in this small sample."
      ],
      "metadata": {
        "id": "dfN_CKVGcLr_"
      }
    },
    {
      "cell_type": "code",
      "source": [
        "df.to_csv('teachers_rating_dataset.csv', index=False)\n",
        "print(\"Dataset exported successfully as 'teachers_rating_dataset.csv'.\")"
      ],
      "metadata": {
        "colab": {
          "base_uri": "https://localhost:8080/"
        },
        "id": "fYbzdysgbuk-",
        "outputId": "78f752be-f6d4-4e56-f801-10c9b9eda154"
      },
      "execution_count": null,
      "outputs": [
        {
          "output_type": "stream",
          "name": "stdout",
          "text": [
            "Dataset exported successfully as 'teachers_rating_dataset.csv'.\n"
          ]
        }
      ]
    }
  ]
}